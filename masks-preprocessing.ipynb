{
 "cells": [
  {
   "cell_type": "code",
   "execution_count": 1,
   "metadata": {},
   "outputs": [],
   "source": [
    "import cv2\n",
    "import os\n",
    "import numpy as np\n",
    "from keras.utils import np_utils"
   ]
  },
  {
   "cell_type": "code",
   "execution_count": 2,
   "metadata": {},
   "outputs": [],
   "source": [
    "data_path=('E:/opencv/data')\n",
    "categories=os.listdir(data_path)\n",
    "labels=[i for i in range(0,len(categories))]\n",
    "\n",
    "label_dict=dict(zip(categories,labels))"
   ]
  },
  {
   "cell_type": "code",
   "execution_count": 3,
   "metadata": {},
   "outputs": [],
   "source": [
    "img_size=100\n",
    "data=[]\n",
    "target=[]\n",
    "\n",
    "for cat in categories:\n",
    "    folder_path=os.path.join(data_path,cat)\n",
    "    img_names=os.listdir(folder_path)\n",
    "    \n",
    "    for img_name in img_names:\n",
    "        img_path=os.path.join(folder_path,img_name)\n",
    "        img=cv2.imread(img_path)\n",
    "        \n",
    "        try:\n",
    "            gray=cv2.cvtColor(img,cv2.COLOR_BGR2GRAY)\n",
    "            resized=cv2.resize(gray,(img_size,img_size))\n",
    "            data.append(resized)\n",
    "            target.append(label_dict[cat])\n",
    "            \n",
    "        except Exception as e:\n",
    "            print('Invalid image file!\\n',e)"
   ]
  },
  {
   "cell_type": "code",
   "execution_count": 4,
   "metadata": {},
   "outputs": [],
   "source": [
    "data=np.array(data)/255.0\n",
    "data=np.reshape(data,(data.shape[0],img_size,img_size,1))\n",
    "\n",
    "target=np.array(target)\n",
    "target=np_utils.to_categorical(target)"
   ]
  },
  {
   "cell_type": "code",
   "execution_count": 5,
   "metadata": {},
   "outputs": [],
   "source": [
    "#np.save('imgdata',data)\n",
    "#np.save('imgtarget',target)"
   ]
  },
  {
   "cell_type": "code",
   "execution_count": 6,
   "metadata": {},
   "outputs": [],
   "source": [
    "from keras.models import Sequential\n",
    "from keras.layers import Dense,Activation,Flatten,Dropout\n",
    "from keras.layers import Conv2D,MaxPooling2D\n",
    "from keras.callbacks import ModelCheckpoint"
   ]
  },
  {
   "cell_type": "code",
   "execution_count": 7,
   "metadata": {},
   "outputs": [],
   "source": [
    "model=Sequential()\n",
    "\n",
    "model.add(Conv2D(200,(3,3),input_shape=data.shape[1:],activation='relu'))\n",
    "model.add(MaxPooling2D(pool_size=(2,2)))\n",
    "\n",
    "model.add(Conv2D(100,(3,3),activation='relu'))\n",
    "model.add(MaxPooling2D(pool_size=(2,2)))\n",
    "\n",
    "model.add(Flatten())\n",
    "model.add(Dropout(0.5))\n",
    "\n",
    "model.add(Dense(50,activation='relu'))\n",
    "model.add(Dense(2,activation='softmax'))\n",
    "\n",
    "model.compile(loss='categorical_crossentropy',optimizer='adam',metrics=['accuracy'])"
   ]
  },
  {
   "cell_type": "code",
   "execution_count": 8,
   "metadata": {},
   "outputs": [],
   "source": [
    "from sklearn.model_selection import train_test_split\n",
    "\n",
    "X_train,X_test,y_train,y_test=train_test_split(data,target,test_size=0.2)"
   ]
  },
  {
   "cell_type": "code",
   "execution_count": 9,
   "metadata": {},
   "outputs": [
    {
     "name": "stdout",
     "output_type": "stream",
     "text": [
      "Epoch 1/20\n",
      "35/35 [==============================] - ETA: 0s - loss: 0.6959 - accuracy: 0.5309WARNING:tensorflow:From c:\\users\\decay\\anaconda3\\envs\\opencv-env\\lib\\site-packages\\tensorflow\\python\\ops\\resource_variable_ops.py:1817: calling BaseResourceVariable.__init__ (from tensorflow.python.ops.resource_variable_ops) with constraint is deprecated and will be removed in a future version.\n",
      "Instructions for updating:\n",
      "If using Keras pass *_constraint arguments to layers.\n",
      "INFO:tensorflow:Assets written to: mask-01.model\\assets\n",
      "35/35 [==============================] - 36s 1s/step - loss: 0.6959 - accuracy: 0.5309 - val_loss: 0.6436 - val_accuracy: 0.6884\n",
      "Epoch 2/20\n",
      "35/35 [==============================] - ETA: 0s - loss: 0.5744 - accuracy: 0.7082INFO:tensorflow:Assets written to: mask-02.model\\assets\n",
      "35/35 [==============================] - 36s 1s/step - loss: 0.5744 - accuracy: 0.7082 - val_loss: 0.4497 - val_accuracy: 0.7899\n",
      "Epoch 3/20\n",
      "35/35 [==============================] - ETA: 0s - loss: 0.4108 - accuracy: 0.8291INFO:tensorflow:Assets written to: mask-03.model\\assets\n",
      "35/35 [==============================] - 36s 1s/step - loss: 0.4108 - accuracy: 0.8291 - val_loss: 0.3278 - val_accuracy: 0.8551\n",
      "Epoch 4/20\n",
      "35/35 [==============================] - ETA: 0s - loss: 0.2627 - accuracy: 0.8973INFO:tensorflow:Assets written to: mask-04.model\\assets\n",
      "35/35 [==============================] - 36s 1s/step - loss: 0.2627 - accuracy: 0.8973 - val_loss: 0.2087 - val_accuracy: 0.9348\n",
      "Epoch 5/20\n",
      "35/35 [==============================] - ETA: 0s - loss: 0.2167 - accuracy: 0.9100INFO:tensorflow:Assets written to: mask-05.model\\assets\n",
      "35/35 [==============================] - 36s 1s/step - loss: 0.2167 - accuracy: 0.9100 - val_loss: 0.1901 - val_accuracy: 0.9384\n",
      "Epoch 6/20\n",
      "35/35 [==============================] - ETA: 0s - loss: 0.1472 - accuracy: 0.9427INFO:tensorflow:Assets written to: mask-06.model\\assets\n",
      "35/35 [==============================] - 36s 1s/step - loss: 0.1472 - accuracy: 0.9427 - val_loss: 0.1449 - val_accuracy: 0.9565\n",
      "Epoch 7/20\n",
      "35/35 [==============================] - ETA: 0s - loss: 0.1099 - accuracy: 0.9591INFO:tensorflow:Assets written to: mask-07.model\\assets\n",
      "35/35 [==============================] - 36s 1s/step - loss: 0.1099 - accuracy: 0.9591 - val_loss: 0.1404 - val_accuracy: 0.9601\n",
      "Epoch 8/20\n",
      "35/35 [==============================] - ETA: 0s - loss: 0.1072 - accuracy: 0.9618INFO:tensorflow:Assets written to: mask-08.model\\assets\n",
      "35/35 [==============================] - 36s 1s/step - loss: 0.1072 - accuracy: 0.9618 - val_loss: 0.1329 - val_accuracy: 0.9529\n",
      "Epoch 9/20\n",
      "35/35 [==============================] - ETA: 0s - loss: 0.0723 - accuracy: 0.9736INFO:tensorflow:Assets written to: mask-09.model\\assets\n",
      "35/35 [==============================] - 36s 1s/step - loss: 0.0723 - accuracy: 0.9736 - val_loss: 0.1302 - val_accuracy: 0.9601\n",
      "Epoch 10/20\n",
      "35/35 [==============================] - ETA: 0s - loss: 0.0684 - accuracy: 0.9718INFO:tensorflow:Assets written to: mask-10.model\\assets\n",
      "35/35 [==============================] - 36s 1s/step - loss: 0.0684 - accuracy: 0.9718 - val_loss: 0.1263 - val_accuracy: 0.9565\n",
      "Epoch 11/20\n",
      "35/35 [==============================] - 35s 987ms/step - loss: 0.0498 - accuracy: 0.9855 - val_loss: 0.1270 - val_accuracy: 0.9638\n",
      "Epoch 12/20\n",
      "35/35 [==============================] - 35s 996ms/step - loss: 0.0407 - accuracy: 0.9873 - val_loss: 0.1398 - val_accuracy: 0.9565\n",
      "Epoch 13/20\n",
      "35/35 [==============================] - 35s 989ms/step - loss: 0.0333 - accuracy: 0.9891 - val_loss: 0.1296 - val_accuracy: 0.9674\n",
      "Epoch 14/20\n",
      "35/35 [==============================] - 35s 998ms/step - loss: 0.0282 - accuracy: 0.9918 - val_loss: 0.2263 - val_accuracy: 0.9420\n",
      "Epoch 15/20\n",
      "35/35 [==============================] - 35s 996ms/step - loss: 0.0411 - accuracy: 0.9873 - val_loss: 0.1287 - val_accuracy: 0.9674\n",
      "Epoch 16/20\n",
      "35/35 [==============================] - 35s 993ms/step - loss: 0.0534 - accuracy: 0.9809 - val_loss: 0.1293 - val_accuracy: 0.9601\n",
      "Epoch 17/20\n",
      "35/35 [==============================] - ETA: 0s - loss: 0.0341 - accuracy: 0.9900INFO:tensorflow:Assets written to: mask-17.model\\assets\n",
      "35/35 [==============================] - 36s 1s/step - loss: 0.0341 - accuracy: 0.9900 - val_loss: 0.1159 - val_accuracy: 0.9638\n",
      "Epoch 18/20\n",
      "35/35 [==============================] - 35s 1000ms/step - loss: 0.0238 - accuracy: 0.9918 - val_loss: 0.1371 - val_accuracy: 0.9601\n",
      "Epoch 19/20\n",
      "35/35 [==============================] - 35s 1s/step - loss: 0.0255 - accuracy: 0.9891 - val_loss: 0.1205 - val_accuracy: 0.9638\n",
      "Epoch 20/20\n",
      "35/35 [==============================] - 35s 1s/step - loss: 0.0139 - accuracy: 0.9955 - val_loss: 0.1273 - val_accuracy: 0.9638\n"
     ]
    }
   ],
   "source": [
    "checkpoint=ModelCheckpoint('mask-{epoch:02d}.model',monitor='val_loss',verbose=0,save_best_only=True,mode='auto')\n",
    "\n",
    "history=model.fit(X_train,y_train,epochs=20,callbacks=[checkpoint],validation_data=(X_test,y_test))"
   ]
  },
  {
   "cell_type": "code",
   "execution_count": null,
   "metadata": {},
   "outputs": [],
   "source": []
  }
 ],
 "metadata": {
  "kernelspec": {
   "display_name": "Python 3",
   "language": "python",
   "name": "python3"
  },
  "language_info": {
   "codemirror_mode": {
    "name": "ipython",
    "version": 3
   },
   "file_extension": ".py",
   "mimetype": "text/x-python",
   "name": "python",
   "nbconvert_exporter": "python",
   "pygments_lexer": "ipython3",
   "version": "3.6.10"
  }
 },
 "nbformat": 4,
 "nbformat_minor": 4
}
